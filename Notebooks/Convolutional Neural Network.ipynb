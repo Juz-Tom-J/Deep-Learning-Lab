{
 "cells": [
  {
   "cell_type": "code",
   "execution_count": 2,
   "id": "3c0836a4",
   "metadata": {},
   "outputs": [],
   "source": [
    "import tensorflow as tf\n",
    "from tensorflow.keras.datasets import mnist\n",
    "from tensorflow.keras.utils import to_categorical\n",
    "\n",
    "(train_images, train_labels), (test_images, test_labels) = mnist.load_data()\n",
    "train_images, test_images = train_images / 255.0, test_images / 255.0\n",
    "train_labels, test_labels = to_categorical(train_labels), to_categorical(test_labels)"
   ]
  },
  {
   "cell_type": "code",
   "execution_count": 3,
   "id": "ea12ee06",
   "metadata": {},
   "outputs": [
    {
     "name": "stdout",
     "output_type": "stream",
     "text": [
      "Epoch 1/25\n",
      "750/750 [==============================] - 14s 18ms/step - loss: 0.2136 - accuracy: 0.9346 - val_loss: 0.0795 - val_accuracy: 0.9763\n",
      "Epoch 2/25\n",
      "750/750 [==============================] - 13s 18ms/step - loss: 0.0537 - accuracy: 0.9831 - val_loss: 0.0489 - val_accuracy: 0.9854\n",
      "Epoch 3/25\n",
      "750/750 [==============================] - 13s 18ms/step - loss: 0.0389 - accuracy: 0.9874 - val_loss: 0.0475 - val_accuracy: 0.9855\n",
      "Epoch 4/25\n",
      "750/750 [==============================] - 13s 18ms/step - loss: 0.0300 - accuracy: 0.9901 - val_loss: 0.0498 - val_accuracy: 0.9860\n",
      "Epoch 5/25\n",
      "750/750 [==============================] - 14s 18ms/step - loss: 0.0256 - accuracy: 0.9919 - val_loss: 0.0424 - val_accuracy: 0.9878\n",
      "Epoch 6/25\n",
      "750/750 [==============================] - 13s 18ms/step - loss: 0.0192 - accuracy: 0.9936 - val_loss: 0.0381 - val_accuracy: 0.9906\n",
      "Epoch 7/25\n",
      "750/750 [==============================] - 14s 18ms/step - loss: 0.0158 - accuracy: 0.9951 - val_loss: 0.0449 - val_accuracy: 0.9890\n",
      "Epoch 8/25\n",
      "750/750 [==============================] - 13s 18ms/step - loss: 0.0144 - accuracy: 0.9954 - val_loss: 0.0390 - val_accuracy: 0.9903\n",
      "Epoch 9/25\n",
      "750/750 [==============================] - 14s 18ms/step - loss: 0.0131 - accuracy: 0.9952 - val_loss: 0.0411 - val_accuracy: 0.9902\n",
      "Epoch 10/25\n",
      "750/750 [==============================] - 14s 18ms/step - loss: 0.0102 - accuracy: 0.9967 - val_loss: 0.0559 - val_accuracy: 0.9869\n",
      "Epoch 11/25\n",
      "750/750 [==============================] - 14s 18ms/step - loss: 0.0092 - accuracy: 0.9967 - val_loss: 0.0489 - val_accuracy: 0.9895\n",
      "Epoch 12/25\n",
      "750/750 [==============================] - 14s 18ms/step - loss: 0.0079 - accuracy: 0.9975 - val_loss: 0.0449 - val_accuracy: 0.9912\n",
      "Epoch 13/25\n",
      "750/750 [==============================] - 14s 19ms/step - loss: 0.0075 - accuracy: 0.9974 - val_loss: 0.0536 - val_accuracy: 0.9893\n",
      "Epoch 14/25\n",
      "750/750 [==============================] - 13s 18ms/step - loss: 0.0060 - accuracy: 0.9980 - val_loss: 0.0454 - val_accuracy: 0.9910\n",
      "Epoch 15/25\n",
      "750/750 [==============================] - 13s 17ms/step - loss: 0.0079 - accuracy: 0.9974 - val_loss: 0.0441 - val_accuracy: 0.9909\n",
      "Epoch 16/25\n",
      "750/750 [==============================] - 14s 18ms/step - loss: 0.0057 - accuracy: 0.9981 - val_loss: 0.0531 - val_accuracy: 0.9907\n",
      "Epoch 17/25\n",
      "750/750 [==============================] - 14s 19ms/step - loss: 0.0050 - accuracy: 0.9984 - val_loss: 0.0470 - val_accuracy: 0.9908\n",
      "Epoch 18/25\n",
      "750/750 [==============================] - 15s 20ms/step - loss: 0.0052 - accuracy: 0.9982 - val_loss: 0.0560 - val_accuracy: 0.9892\n",
      "Epoch 19/25\n",
      "750/750 [==============================] - 16s 21ms/step - loss: 0.0030 - accuracy: 0.9989 - val_loss: 0.0551 - val_accuracy: 0.9903\n",
      "Epoch 20/25\n",
      "750/750 [==============================] - 16s 21ms/step - loss: 0.0085 - accuracy: 0.9973 - val_loss: 0.0500 - val_accuracy: 0.9891\n",
      "Epoch 21/25\n",
      "750/750 [==============================] - 14s 18ms/step - loss: 0.0033 - accuracy: 0.9989 - val_loss: 0.0466 - val_accuracy: 0.9919\n",
      "Epoch 22/25\n",
      "750/750 [==============================] - 14s 18ms/step - loss: 0.0018 - accuracy: 0.9994 - val_loss: 0.0610 - val_accuracy: 0.9900\n",
      "Epoch 23/25\n",
      "750/750 [==============================] - 14s 18ms/step - loss: 0.0065 - accuracy: 0.9980 - val_loss: 0.0549 - val_accuracy: 0.9903\n",
      "Epoch 24/25\n",
      "750/750 [==============================] - 14s 18ms/step - loss: 0.0045 - accuracy: 0.9984 - val_loss: 0.0534 - val_accuracy: 0.9908\n",
      "Epoch 25/25\n",
      "750/750 [==============================] - 14s 18ms/step - loss: 0.0050 - accuracy: 0.9983 - val_loss: 0.0526 - val_accuracy: 0.9908\n"
     ]
    },
    {
     "data": {
      "text/plain": [
       "<keras.src.callbacks.History at 0x1b48187b520>"
      ]
     },
     "execution_count": 3,
     "metadata": {},
     "output_type": "execute_result"
    }
   ],
   "source": [
    "model = tf.keras.Sequential([\n",
    "    tf.keras.layers.Conv2D(32, 3, activation='relu', input_shape=(28, 28, 1)),\n",
    "    tf.keras.layers.MaxPooling2D(),\n",
    "    tf.keras.layers.Conv2D(64, 3, activation='relu'),\n",
    "    tf.keras.layers.MaxPooling2D(),\n",
    "    tf.keras.layers.Conv2D(64, 3, activation='relu'),\n",
    "    tf.keras.layers.Flatten(),\n",
    "    tf.keras.layers.Dense(64, activation='relu'),\n",
    "    tf.keras.layers.Dense(10, activation='softmax')\n",
    "])\n",
    "\n",
    "model.compile(optimizer='adam', loss='categorical_crossentropy', metrics=['accuracy'])\n",
    "model.fit(train_images, train_labels, epochs=25, batch_size=64, validation_split=0.2)"
   ]
  },
  {
   "cell_type": "code",
   "execution_count": 4,
   "id": "5d2c2ace",
   "metadata": {},
   "outputs": [
    {
     "name": "stdout",
     "output_type": "stream",
     "text": [
      "313/313 [==============================] - 1s 3ms/step - loss: 0.0439 - accuracy: 0.9910\n",
      "Test Loss : 0.0439\n",
      "Test Accuracy : 99.1%\n"
     ]
    }
   ],
   "source": [
    "test_loss, test_acc = model.evaluate(test_images, test_labels)\n",
    "print(f\"Test Loss : {round(test_loss, 4)}\\nTest Accuracy : {round(test_acc * 100, 4)}%\")"
   ]
  },
  {
   "cell_type": "code",
   "execution_count": null,
   "id": "62eb6fec",
   "metadata": {},
   "outputs": [],
   "source": []
  }
 ],
 "metadata": {
  "kernelspec": {
   "display_name": "Python 3 (ipykernel)",
   "language": "python",
   "name": "python3"
  },
  "language_info": {
   "codemirror_mode": {
    "name": "ipython",
    "version": 3
   },
   "file_extension": ".py",
   "mimetype": "text/x-python",
   "name": "python",
   "nbconvert_exporter": "python",
   "pygments_lexer": "ipython3",
   "version": "3.10.9"
  }
 },
 "nbformat": 4,
 "nbformat_minor": 5
}
